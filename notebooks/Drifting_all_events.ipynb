{
 "cells": [
  {
   "cell_type": "markdown",
   "metadata": {},
   "source": [
    "# Drifting initial electrons in TPC"
   ]
  },
  {
   "cell_type": "markdown",
   "metadata": {},
   "source": [
    "Based on electrons drift process from photocathode in Xenodiffusionscope."
   ]
  },
  {
   "cell_type": "code",
   "execution_count": 2,
   "metadata": {},
   "outputs": [
    {
     "name": "stdout",
     "output_type": "stream",
     "text": [
      "The autoreload extension is already loaded. To reload it, use:\n",
      "  %reload_ext autoreload\n"
     ]
    }
   ],
   "source": [
    "import numpy as np\n",
    "import pandas as pd\n",
    "\n",
    "import matplotlib.pyplot as plt \n",
    "\n",
    "from xenodiffusionscope import Source\n",
    "from xenodiffusionscope import TPC\n",
    "from xenodiffusionscope import ElectronDrift \n",
    "from xenodiffusionscope import MeshGrid\n",
    "from xenodiffusionscope import TopArray\n",
    "from xenodiffusionscope import LCEPattern\n",
    "\n",
    "import plot_utils as pu\n",
    "from tqdm import tqdm\n",
    "\n",
    "import nestpy\n",
    "\n",
    "%load_ext autoreload\n",
    "%autoreload 2\n",
    "%matplotlib inline"
   ]
  },
  {
   "cell_type": "code",
   "execution_count": 3,
   "metadata": {},
   "outputs": [],
   "source": [
    "# Figure size and DPI\n",
    "plt.rcParams['figure.figsize'] = (6, 6)\n",
    "plt.rcParams['figure.dpi'] = 100\n",
    "\n",
    "# Font family and size\n",
    "plt.rcParams['font.family'] = 'serif'\n",
    "plt.rcParams['font.serif'] = ['Utopia']\n",
    "plt.rcParams['font.size'] = 28\n",
    "\n",
    "# Mathtext font set\n",
    "plt.rcParams['mathtext.fontset'] = 'cm'\n"
   ]
  },
  {
   "cell_type": "markdown",
   "metadata": {},
   "source": [
    "### Initialise TPC and Source objects"
   ]
  },
  {
   "cell_type": "code",
   "execution_count": 4,
   "metadata": {},
   "outputs": [],
   "source": [
    "r_max, hex_size = 75, 1.56\n",
    "length = 2600\n",
    "liquid_gap = 5\n",
    "gas_gap = 5\n",
    "drift_field = 100"
   ]
  },
  {
   "cell_type": "code",
   "execution_count": 5,
   "metadata": {},
   "outputs": [],
   "source": [
    "Xenoscope = TPC(r_max, length, liquid_gap, gas_gap, drift_field)\n",
    "source = Source('../data/Ba133_expanded5k.csv') # Load the input data "
   ]
  },
  {
   "cell_type": "markdown",
   "metadata": {},
   "source": [
    "## Initial electron positions "
   ]
  },
  {
   "cell_type": "code",
   "execution_count": null,
   "metadata": {},
   "outputs": [],
   "source": [
    "# Choose a specific interaction energy and electric field ADD UNITS\n",
    "interaction = nestpy.nr\n",
    "density = 2.9 \n",
    "field = 100.\n",
    "\n",
    "# Number of electrons generated from interactions\n",
    "n_electrons = source.n_initial_electrons(interaction, field)\n",
    "# Initial positions of electrons\n",
    "positions = source.pos_initial_electrons(n_electrons)"
   ]
  },
  {
   "cell_type": "code",
   "execution_count": null,
   "metadata": {},
   "outputs": [],
   "source": [
    "print(positions)"
   ]
  },
  {
   "cell_type": "markdown",
   "metadata": {},
   "source": [
    "## Drifting initial electrons "
   ]
  },
  {
   "cell_type": "code",
   "execution_count": null,
   "metadata": {},
   "outputs": [],
   "source": [
    "# Initialise a drift simulator\n",
    "drift = ElectronDrift(positions, Xenoscope)\n",
    "\n",
    "# Drift the electrons to the gate and get the final positions\n",
    "x, y , z = drift.drift_electrons()"
   ]
  },
  {
   "cell_type": "code",
   "execution_count": null,
   "metadata": {},
   "outputs": [],
   "source": [
    "#Apply e-lifetime and extraction efficiency, electrons are suppressed \n",
    "x_corr_elifetime,y_corr_elifetime,z_corr_elifetime = drift.apply_elifetime(x,y,z)\n",
    "x_extracted,y_extracted, z_extracted = drift.extract_electrons(x_corr_elifetime,y_corr_elifetime,z_corr_elifetime)"
   ]
  },
  {
   "cell_type": "markdown",
   "metadata": {},
   "source": [
    "## Focus electrons on gate mesh "
   ]
  },
  {
   "cell_type": "code",
   "execution_count": null,
   "metadata": {},
   "outputs": [],
   "source": [
    "from hexalattice.hexalattice import create_hex_grid\n",
    "import numpy as np\n",
    "import matplotlib.pyplot as plt\n",
    "from matplotlib.patches import Circle"
   ]
  },
  {
   "cell_type": "code",
   "execution_count": null,
   "metadata": {},
   "outputs": [],
   "source": [
    "# Create a mesh object \n",
    "mesh = Xenoscope.gate_mesh"
   ]
  },
  {
   "cell_type": "code",
   "execution_count": null,
   "metadata": {},
   "outputs": [],
   "source": [
    "#Focus electrons on hex centers\n",
    "e_pos = np.stack((x_extracted, y_extracted, z_extracted), axis = 1)\n",
    "\n",
    "pos_focus = mesh.focus_on_grid(e_pos)\n",
    "\n",
    "pos_counts = mesh.count_focused(pos_focus)\n",
    "\n",
    "counts_pe_on_hex = drift.convert_electron_to_photons(pos_counts)"
   ]
  },
  {
   "cell_type": "code",
   "execution_count": null,
   "metadata": {},
   "outputs": [],
   "source": [
    "# how many hexagon we need?\n",
    "r_max = 75\n",
    "a = 1.56\n",
    "r_hex = a * np.sqrt(3)\n",
    "\n",
    "n_hex_x = 2 * np.ceil(75/r_hex)\n",
    "n_hex_y = 2 * np.ceil(75/(3/2*a))"
   ]
  },
  {
   "cell_type": "code",
   "execution_count": null,
   "metadata": {},
   "outputs": [],
   "source": [
    "# fig, ax = plt.subplots(1,1, figsize = (15,15))\n",
    "\n",
    "# hex_centers, _ = create_hex_grid(nx=n_hex_x, ny=n_hex_y, \n",
    "               #                  min_diam = r_hex,crop_circ = r_max,\n",
    "               #                  h_ax =ax, do_plot = True)\n",
    "\n",
    "#hex_origin_dist = np.sqrt(np.power(hex_centers[:,0],2)+np.power(hex_centers[:,1],2))\n",
    "#mask_r = hex_origin_dist < r_max\n",
    "#hex_centers_inside = hex_centers[mask_r]"
   ]
  },
  {
   "cell_type": "code",
   "execution_count": null,
   "metadata": {},
   "outputs": [],
   "source": [
    "fig, ax = plt.subplots(1, 1, figsize=(9, 9))\n",
    "\n",
    "hex_centers, _ = create_hex_grid(nx=n_hex_x, ny=n_hex_y, min_diam=r_hex, crop_circ=r_max, h_ax=ax, do_plot=True)\n",
    "\n",
    "ax.scatter(e_pos[:1000, 0], e_pos[:1000, 1], label='Unfocused', alpha=0.6, s=25, c = '#4C82C0')\n",
    "ax.scatter(pos_focus[:1000, 0], pos_focus[:1000, 1], label='Focused', marker='x', linewidth=1.4, alpha=0.9, s=25, c = '#D92F41')\n",
    "\n",
    "# TPC radius \n",
    "c = Circle((0,0), r_max, fill = False, color = '#FF4C48')\n",
    "ax.add_patch(c)\n",
    "\n",
    "# Set axis labels\n",
    "ax.set_xlabel('x [mm]')\n",
    "ax.set_ylabel('y [mm]')\n",
    "\n",
    "# Set legend\n",
    "ax.legend(loc='upper right')\n",
    "\n",
    "# Set title\n",
    "ax.set_title('Co57')\n",
    "\n",
    "# Add grid lines\n",
    "ax.grid(True, linestyle='--', alpha=0.5)\n",
    "\n",
    "# Set background color\n",
    "ax.set_facecolor('#FAFAFA')\n",
    "        \n",
    "\n",
    "# Save\n",
    "save_path = \"/home/atp/souaha/souahada/figures/XenoDiffusion/focusing_Co57.png\"\n",
    "plt.savefig(save_path, facecolor=\"white\", bbox_inches='tight', pad_inches=0.1)\n",
    "\n",
    "# Show the plot\n",
    "plt.show()\n"
   ]
  },
  {
   "cell_type": "code",
   "execution_count": null,
   "metadata": {},
   "outputs": [],
   "source": [
    "## To zoom in\n",
    "\n",
    "fig, ax = plt.subplots(1,1, figsize = (10,10), dpi = 60)\n",
    "\n",
    "hex_centers, h_ax = create_hex_grid(nx=n_hex_x, ny=n_hex_y, \n",
    "                                    min_diam = r_hex,crop_circ = r_max,\n",
    "                                    h_ax =ax, do_plot = True)\n",
    "\n",
    "ax.scatter(e_pos[:1000, 0], e_pos[:1000, 1], marker = '.',c = 'b', label = 'Initial positions', alpha = 0.5)\n",
    "ax.scatter(pos_focus[:1000, 0], pos_focus[:1000, 1], c = 'r',marker = 'x', label = 'Final positions')\n",
    "\n",
    "ax.set_xlim(-70,70)\n",
    "ax.set_ylim(-70,70)\n",
    "ax.set_xlabel('x [mm]')\n",
    "ax.set_xlabel('y [mm]')\n",
    "plt.gca().set_aspect('equal')\n",
    "plt.legend()\n",
    "plt.show()"
   ]
  },
  {
   "cell_type": "code",
   "execution_count": null,
   "metadata": {},
   "outputs": [],
   "source": [
    "# Plot number of electrons on each hex center \n",
    "pu.electrons_hist(mesh.n_hexes, pos_counts, 'Co57', 'hist_Co57')"
   ]
  },
  {
   "cell_type": "markdown",
   "metadata": {},
   "source": [
    "## Pattern reconstruction"
   ]
  },
  {
   "cell_type": "code",
   "execution_count": null,
   "metadata": {},
   "outputs": [],
   "source": [
    "pattern_path = '/disk/gfs_atp/xenoscope/toy-mc/LCE_patterns'\n",
    "\n",
    "# Xenoscope, source and mesh already defined above. Later have in a separate notebook\n",
    "top_array = TopArray(tpc = Xenoscope, \n",
    "                     mesh = mesh,\n",
    "                     model = 'sixbysix',\n",
    "                     path_to_patterns = pattern_path,\n",
    "                    path_to_model = '../TopArrayModel/' )"
   ]
  },
  {
   "cell_type": "code",
   "execution_count": null,
   "metadata": {},
   "outputs": [],
   "source": [
    "say_a_number = 50\n",
    "pattern = top_array.load_pattern(say_a_number)"
   ]
  },
  {
   "cell_type": "code",
   "execution_count": null,
   "metadata": {},
   "outputs": [],
   "source": [
    "LCEPattern.plot_pattern(Xenoscope,pattern,say_a_number) ## In TPC r max has been changed to radius"
   ]
  },
  {
   "cell_type": "code",
   "execution_count": null,
   "metadata": {},
   "outputs": [],
   "source": [
    "top_array.load_all_patterns(all_at_once=True)"
   ]
  },
  {
   "cell_type": "code",
   "execution_count": null,
   "metadata": {},
   "outputs": [],
   "source": [
    "top_array.fill_grid_from_events(counts_pe_on_hex)"
   ]
  },
  {
   "cell_type": "code",
   "execution_count": null,
   "metadata": {},
   "outputs": [],
   "source": [
    "def plot_results(fig, ax,top_array):\n",
    "    xx = top_array.grid_xx\n",
    "    yy = top_array.grid_yy\n",
    "    zz = top_array.grid_zz\n",
    "    rr = TPC.get_r(xx,yy)\n",
    "    xx = xx[rr < Xenoscope.radius]\n",
    "    yy = yy[rr < Xenoscope.radius]\n",
    "    zz = zz[rr < Xenoscope.radius]\n",
    "    \n",
    "    \n",
    "    ax.set_title('Summed results')\n",
    "    sc = ax.scatter(xx, yy,\n",
    "                    c=np.log10(zz),\n",
    "               marker = 's', s = 10, vmin = 0,alpha = 0.8)\n",
    "\n",
    "    ax.add_patch(Circle((0,0),75, color = 'r',fill = False, linewidth = 1, ls ='--'))\n",
    "    ax.set_aspect('equal')\n",
    "    ax.set_xlabel('x [mm]')\n",
    "    ax.set_ylabel('y [mm]')\n",
    "    fig.colorbar(sc, ax = ax, label = 'pe$\\cdot$mm$^{-2}$')\n",
    "    \n",
    "    ax = top_array.plot_toparray(ax)\n",
    "    return fig,ax"
   ]
  },
  {
   "cell_type": "code",
   "execution_count": null,
   "metadata": {},
   "outputs": [],
   "source": [
    "top_array.model"
   ]
  },
  {
   "cell_type": "code",
   "execution_count": null,
   "metadata": {},
   "outputs": [],
   "source": [
    "import pickle\n",
    "from matplotlib.patches import Circle\n"
   ]
  },
  {
   "cell_type": "code",
   "execution_count": null,
   "metadata": {},
   "outputs": [],
   "source": [
    "#top_array.load_top_array()\n",
    "with open('../TopArrayModel/%s.pck'%top_array.model, 'rb') as file:\n",
    "    top_array.sensors = pickle.load(file)\n",
    "top_array.n_sensors = len(top_array.sensors)"
   ]
  },
  {
   "cell_type": "code",
   "execution_count": null,
   "metadata": {},
   "outputs": [],
   "source": [
    "fig,ax = plt.subplots(1,1,figsize = (9,9), dpi = 100)\n",
    "fig, ax = plot_results(fig, ax, top_array)\n",
    "ax = top_array.plot_toparray(ax)\n",
    "\n",
    "#plt.savefig('figures/results_with_array.png')\n",
    "plt.show()"
   ]
  },
  {
   "cell_type": "code",
   "execution_count": null,
   "metadata": {},
   "outputs": [],
   "source": [
    "import matplotlib as mpl"
   ]
  },
  {
   "cell_type": "code",
   "execution_count": null,
   "metadata": {},
   "outputs": [],
   "source": [
    "top_array.load_all_patterns(all_at_once=True)\n",
    "top_array.fill_grid_from_events(counts_pe_on_hex)\n",
    "top_array.load_top_array()\n",
    "n_pe_quads = top_array.n_pe_in_sensors()"
   ]
  },
  {
   "cell_type": "code",
   "execution_count": null,
   "metadata": {},
   "outputs": [],
   "source": [
    "n_pe_quads"
   ]
  },
  {
   "cell_type": "code",
   "execution_count": null,
   "metadata": {},
   "outputs": [],
   "source": [
    "Xenoscope.diffusion_trans"
   ]
  },
  {
   "cell_type": "code",
   "execution_count": null,
   "metadata": {},
   "outputs": [],
   "source": [
    "from matplotlib.colors import LinearSegmentedColormap\n",
    "\n",
    "sunset = ['#364B9A', '#4A7BB7', '#6EA6CD', '#98CAE1', '#C2E4EF',\n",
    "         '#EAECCC', '#FEDA8B', '#FDB366', '#F67E4B', '#DD3D2D',\n",
    "         '#A50026']\n",
    "\n",
    "\n",
    "# Define positions for custom heatmap\n",
    "positions = np.linspace(0, 1, len(sunset)) \n",
    "\n",
    "# Create the custom colormap using LinearSegmentedColormap\n",
    "custom_cmap = LinearSegmentedColormap.from_list(\"Custom Colormap\", list(zip(positions, sunset)))"
   ]
  },
  {
   "cell_type": "code",
   "execution_count": null,
   "metadata": {},
   "outputs": [],
   "source": [
    "\n",
    "import matplotlib.pyplot as plt\n",
    "import matplotlib as mpl\n",
    "import numpy as np\n",
    "\n",
    "fig, ax = plt.subplots(1, 1, figsize=(5, 4), dpi=200)\n",
    "\n",
    "# Assuming top_array is an instance of a custom class for plotting top arrays\n",
    "ax = top_array.plot_toparray(ax, pe_in_sensors=True)\n",
    "\n",
    "cmap = mpl.cm.inferno\n",
    "norm = mpl.colors.Normalize(vmin=0, vmax=np.log10(np.max(n_pe_quads)))\n",
    "\n",
    "# Set the array of values for the ScalarMappable\n",
    "sm = mpl.cm.ScalarMappable(norm=norm, cmap=cmap)\n",
    "sm.set_array([n_pe_quads])  # Replace the empty list with your actual data array\n",
    "\n",
    "# Create the colorbar\n",
    "cbar = fig.colorbar(sm, ax=ax, orientation='vertical', label='log10(PE)', ticks=[1, 2, 3, 4])\n",
    "\n",
    "ax.set_yticks((-50, 0, 50))\n",
    "plt.title('6x6 layout')\n",
    "\n",
    "plt.tight_layout()\n",
    "\n",
    "plt.show()\n"
   ]
  },
  {
   "cell_type": "code",
   "execution_count": null,
   "metadata": {},
   "outputs": [],
   "source": [
    "top_array = TopArray(tpc = Xenoscope, \n",
    "                     mesh = mesh,\n",
    "                     model = 'quads',\n",
    "                     path_to_patterns = pattern_path,\n",
    "                    path_to_model = '../TopArrayModel/' )"
   ]
  },
  {
   "cell_type": "code",
   "execution_count": null,
   "metadata": {},
   "outputs": [],
   "source": [
    "\n",
    "top_array.fill_grid_from_events(counts_pe_on_hex)\n",
    "top_array.load_top_array()\n",
    "n_pe_quads = top_array.n_pe_in_sensors()"
   ]
  },
  {
   "cell_type": "code",
   "execution_count": null,
   "metadata": {},
   "outputs": [],
   "source": [
    "\n",
    "fig,ax = plt.subplots(1,1,figsize = (11,9), dpi = 100)\n",
    "#fig, ax = plot_results(fig, ax, top_array, res)\n",
    "ax = top_array.plot_toparray(ax,pe_in_sensors=True)\n",
    "\n",
    "cmap = mpl.cm.inferno\n",
    "norm = mpl.colors.Normalize(vmin=np.log10(np.min(n_pe_quads)), \n",
    "                            vmax=np.log10(np.max(n_pe_quads)))\n",
    "\n",
    "fig.colorbar(mpl.cm.ScalarMappable(norm=norm, cmap=cmap),\n",
    "             ax=ax, orientation='vertical', label='log10(Photoelectrons detected)')\n",
    "\n",
    "plt.show()\n"
   ]
  },
  {
   "cell_type": "code",
   "execution_count": null,
   "metadata": {},
   "outputs": [],
   "source": []
  }
 ],
 "metadata": {
  "kernelspec": {
   "display_name": "Python 3",
   "language": "python",
   "name": "python3"
  },
  "language_info": {
   "codemirror_mode": {
    "name": "ipython",
    "version": 3
   },
   "file_extension": ".py",
   "mimetype": "text/x-python",
   "name": "python",
   "nbconvert_exporter": "python",
   "pygments_lexer": "ipython3",
   "version": "3.6.15"
  }
 },
 "nbformat": 4,
 "nbformat_minor": 2
}
