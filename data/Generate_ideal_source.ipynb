{
 "cells": [
  {
   "cell_type": "markdown",
   "metadata": {},
   "source": [
    "Use the G4 data as template for the positions but the energies are switched to the main energy peak for all the events. Also trying to generate random interactions which positions are enclosed in the TPC and energies corresponding to the main peak. This way the number of entries is controlled. "
   ]
  },
  {
   "cell_type": "markdown",
   "metadata": {},
   "source": [
    "## Ideal source with main energy peak(s)"
   ]
  },
  {
   "cell_type": "markdown",
   "metadata": {},
   "source": [
    "### Cesium "
   ]
  },
  {
   "cell_type": "code",
   "execution_count": 1,
   "metadata": {},
   "outputs": [
    {
     "name": "stdout",
     "output_type": "stream",
     "text": [
      "The history saving thread hit an unexpected error (DatabaseError('database disk image is malformed',)).History will not be written to the database.\n",
      "File 'ideal_Cs137.csv' has been generated.\n"
     ]
    }
   ],
   "source": [
    "import csv\n",
    "\n",
    "input_file = \"Cs137.csv\" # Choose the source \n",
    "output_file = \"ideal_Cs137.csv\"\n",
    "\n",
    "# Modify energy value\n",
    "modified_energy = 661.7 * 10**-6\n",
    "\n",
    "# Read input file and extract required data\n",
    "data = []\n",
    "with open(input_file, 'r') as file:\n",
    "    reader = csv.reader(file)\n",
    "    header = next(reader)  # Skip the header line\n",
    "    for row in reader:\n",
    "        x_pos, y_pos, z_pos, _ = row  # Ignore the original energy value\n",
    "        data.append([x_pos, y_pos, z_pos, str(modified_energy)])\n",
    "\n",
    "# Write modified data to output file\n",
    "with open(output_file, 'w', newline='') as file:\n",
    "    writer = csv.writer(file)\n",
    "    writer.writerow(['x_position', 'y_position', 'z_position', 'energy_dep'])\n",
    "    writer.writerows(data)\n",
    "\n",
    "print(\"File 'ideal_Cs137.csv' has been generated.\")\n"
   ]
  },
  {
   "cell_type": "markdown",
   "metadata": {},
   "source": [
    "### Cobalt / Barium  "
   ]
  },
  {
   "cell_type": "code",
   "execution_count": 4,
   "metadata": {},
   "outputs": [
    {
     "name": "stdout",
     "output_type": "stream",
     "text": [
      "File 'Ba_133.csv' has been generated.\n"
     ]
    }
   ],
   "source": [
    "import csv\n",
    "\n",
    "input_file = \"Ba133.csv\"  # Choose the source\n",
    "output_file = \"Ba133_ideal.csv\"\n",
    "\n",
    "# Modify energy values\n",
    "energy_values = [81.0, 302.9, 356.0, 383.8]  # Energy peaks for Cobalt-57\n",
    "\n",
    "# Read input file and extract required data\n",
    "data = []\n",
    "with open(input_file, 'r') as file:\n",
    "    reader = csv.reader(file)\n",
    "    header = next(reader)  # Skip the header line\n",
    "    num_rows = sum(1 for row in reader)  # Count the number of rows in the input file\n",
    "    file.seek(0)  # Reset the file pointer to the beginning\n",
    "    next(reader)  # Skip the header line again\n",
    "    energy_index = 0  # Initialize energy index\n",
    "    for row in reader:\n",
    "        x_pos, y_pos, z_pos, _ = row  # Ignore the original energy value\n",
    "        modified_energy = energy_values[energy_index % len(energy_values)] * 10 ** -6\n",
    "        data.append([x_pos, y_pos, z_pos, str(modified_energy)])\n",
    "        energy_index += 1\n",
    "\n",
    "# Write modified data to output file\n",
    "with open(output_file, 'w', newline='') as file:\n",
    "    writer = csv.writer(file)\n",
    "    writer.writerow(['x_position', 'y_position', 'z_position', 'energy_dep'])\n",
    "    writer.writerows(data)\n",
    "\n",
    "print(\"File 'Ba_133.csv' has been generated.\")"
   ]
  },
  {
   "cell_type": "markdown",
   "metadata": {},
   "source": [
    "## Ideal source with a chosen number of entries and uniform positions"
   ]
  },
  {
   "cell_type": "markdown",
   "metadata": {},
   "source": [
    "### Cesium "
   ]
  },
  {
   "cell_type": "code",
   "execution_count": 7,
   "metadata": {},
   "outputs": [
    {
     "name": "stdout",
     "output_type": "stream",
     "text": [
      "File 'Ba133_170.csv' with 170 entries has been generated.\n"
     ]
    }
   ],
   "source": [
    "import csv\n",
    "import random\n",
    "import math\n",
    "\n",
    "output_file = \"Cs137_expanded5k.csv\"\n",
    "num_entries = 5000\n",
    "energy_value = 661.7 * 10**-6\n",
    "radius = 70\n",
    "\n",
    "# Generate random positions\n",
    "data = []\n",
    "for _ in range(num_entries):\n",
    "    angle = random.uniform(0, 2*math.pi)\n",
    "    distance = random.uniform(0, radius)\n",
    "    x_pos = distance * math.cos(angle)\n",
    "    y_pos = distance * math.sin(angle)\n",
    "    z_pos = random.uniform(0, 2600)\n",
    "    data.append([x_pos, y_pos, z_pos, str(energy_value)])\n",
    "\n",
    "# Write data to output file\n",
    "with open(output_file, 'w', newline='') as file:\n",
    "    writer = csv.writer(file)\n",
    "    writer.writerow(['x_position', 'y_position', 'z_position', 'energy_dep'])\n",
    "    writer.writerows(data)\n",
    "\n",
    "print(f\"File '{output_file}' with {num_entries} entries has been generated.\")"
   ]
  },
  {
   "cell_type": "markdown",
   "metadata": {},
   "source": [
    "### Cobalt/ Barium"
   ]
  },
  {
   "cell_type": "code",
   "execution_count": 16,
   "metadata": {},
   "outputs": [
    {
     "name": "stdout",
     "output_type": "stream",
     "text": [
      "File 'Ba133_expanded5k.csv' with 5000 entries has been generated.\n"
     ]
    }
   ],
   "source": [
    "import csv\n",
    "import random\n",
    "import math\n",
    "\n",
    "output_file = \"Ba133_expanded5k.csv\"\n",
    "num_entries = 5000\n",
    "energy_values = [81, 276.4, 302.85, 356.0, 383.8]\n",
    "intensities = [28.1, 11.4, 14.5, 26.4, 3.6]\n",
    "# Energy peaks for Cobalt (85.6% for 122, 13.68% for 136.4, and 0.72% for 692.4)\n",
    "radius = 70\n",
    "\n",
    "# Generate random positions\n",
    "data = []\n",
    "for i in range(num_entries):\n",
    "    angle = random.uniform(0, 2*math.pi)\n",
    "    distance = random.uniform(0, radius)\n",
    "    x_pos = distance * math.cos(angle)\n",
    "    y_pos = distance * math.sin(angle)\n",
    "    z_pos = random.uniform(0, 2600)\n",
    "    \n",
    "    # Choose energy value based on intensities\n",
    "    energy_index = random.choices(range(len(energy_values)), weights=intensities)[0]\n",
    "    energy_value = energy_values[energy_index] * 10**-6\n",
    "    data.append([x_pos, y_pos, z_pos, str(energy_value)])\n",
    "\n",
    "# Write data to output file\n",
    "with open(output_file, 'w', newline='') as file:\n",
    "    writer = csv.writer(file)\n",
    "    writer.writerow(['x_position', 'y_position', 'z_position', 'energy_dep'])\n",
    "    writer.writerows(data)\n",
    "\n",
    "print(f\"File '{output_file}' with {num_entries} entries has been generated.\")"
   ]
  },
  {
   "cell_type": "code",
   "execution_count": null,
   "metadata": {},
   "outputs": [],
   "source": [
    "energy_values = [81, 276.4, 302.85, 356.0, 383.8]\n",
    "intensities = [28.1, 11.4, 14.5, 26.4, 3.6]"
   ]
  },
  {
   "cell_type": "markdown",
   "metadata": {},
   "source": [
    "## Generate one interaction, different positions"
   ]
  },
  {
   "cell_type": "markdown",
   "metadata": {},
   "source": [
    "### Cesium"
   ]
  },
  {
   "cell_type": "code",
   "execution_count": null,
   "metadata": {},
   "outputs": [],
   "source": [
    "import csv\n",
    "\n",
    "def generate_file(output_file, num_entries, x_pos, y_pos, z_pos, energy_value):\n",
    "    data = [[x_pos, y_pos, z_pos, str(energy_value)]] * num_entries\n",
    "\n",
    "    with open(output_file, 'w', newline='') as file:\n",
    "        writer = csv.writer(file)\n",
    "        writer.writerow(['x_position', 'y_position', 'z_position', 'energy_dep'])\n",
    "        writer.writerows(data)\n",
    "\n",
    "    print(f\"File '{output_file}' with {num_entries} entries has been generated.\")\n",
    "\n",
    "output_file_1 = \"Cs137_234_1.csv\"\n",
    "output_file_2 = \"Cs137_234_2.csv\"\n",
    "output_file_3 = \"Cs137_234_3.csv\"\n",
    "output_file_4 = \"Cs137_234_4.csv\"\n",
    "output_file_5 = \"Cs137_234_5.csv\"\n",
    "\n",
    "num_entries = 234\n",
    "energy_value = 661.7\n",
    "\n",
    "# Generate files with specific positions and energy values\n",
    "generate_file(output_file_1, num_entries, 0, 0, 0, energy_value)\n",
    "generate_file(output_file_2, num_entries, 70, 0, 0, energy_value)\n",
    "generate_file(output_file_3, num_entries, -70, 0, 0, energy_value)\n",
    "generate_file(output_file_4, num_entries, 0, 70, 0, energy_value)\n",
    "generate_file(output_file_5, num_entries, -20, 20, 0, energy_value)\n"
   ]
  },
  {
   "cell_type": "markdown",
   "metadata": {},
   "source": [
    "### Cobalt"
   ]
  },
  {
   "cell_type": "code",
   "execution_count": 3,
   "metadata": {},
   "outputs": [],
   "source": [
    "positions = [(0, 0, 0), (70, 0, 0), (-70, 0, 0), (0, 70, 0), (-20, 20, 0)]"
   ]
  },
  {
   "cell_type": "code",
   "execution_count": 7,
   "metadata": {},
   "outputs": [
    {
     "name": "stdout",
     "output_type": "stream",
     "text": [
      "File 'Co57_96_1.csv' with 96 entries has been generated.\n",
      "File 'Co57_96_2.csv' with 96 entries has been generated.\n",
      "File 'Co57_96_3.csv' with 96 entries has been generated.\n",
      "File 'Co57_96_4.csv' with 96 entries has been generated.\n",
      "File 'Co57_96_5.csv' with 96 entries has been generated.\n",
      "File 'Co57_102_1.csv' with 102 entries has been generated.\n",
      "File 'Co57_102_2.csv' with 102 entries has been generated.\n",
      "File 'Co57_102_3.csv' with 102 entries has been generated.\n",
      "File 'Co57_102_4.csv' with 102 entries has been generated.\n",
      "File 'Co57_102_5.csv' with 102 entries has been generated.\n",
      "File 'Co57_240_1.csv' with 240 entries has been generated.\n",
      "File 'Co57_240_2.csv' with 240 entries has been generated.\n",
      "File 'Co57_240_3.csv' with 240 entries has been generated.\n",
      "File 'Co57_240_4.csv' with 240 entries has been generated.\n",
      "File 'Co57_240_5.csv' with 240 entries has been generated.\n"
     ]
    }
   ],
   "source": [
    "# Generate files for cobalt 57 source \n",
    "cobalt_output_files = []\n",
    "cases = [\n",
    "    (122, 96),\n",
    "    (136.4, 102),\n",
    "    (692.4, 240)\n",
    "]\n",
    "\n",
    "for i, case in enumerate(cases):\n",
    "    energy, num_entries = case\n",
    "    for j, position in enumerate(positions):\n",
    "        output_file = f\"Co57_{num_entries}_{j+1}.csv\"\n",
    "        cobalt_output_files.append(output_file)\n",
    "        generate_file(output_file, num_entries, *position, energy)\n",
    "\n",
    "#print(f\"Total cobalt files generated: {len(cobalt_output_files)}\")"
   ]
  },
  {
   "cell_type": "markdown",
   "metadata": {},
   "source": [
    "### Barium"
   ]
  },
  {
   "cell_type": "code",
   "execution_count": 8,
   "metadata": {},
   "outputs": [
    {
     "name": "stdout",
     "output_type": "stream",
     "text": [
      "File 'Ba133_77_1.csv' with 77 entries has been generated.\n",
      "File 'Ba133_77_2.csv' with 77 entries has been generated.\n",
      "File 'Ba133_77_3.csv' with 77 entries has been generated.\n",
      "File 'Ba133_77_4.csv' with 77 entries has been generated.\n",
      "File 'Ba133_77_5.csv' with 77 entries has been generated.\n",
      "File 'Ba133_149_1.csv' with 149 entries has been generated.\n",
      "File 'Ba133_149_2.csv' with 149 entries has been generated.\n",
      "File 'Ba133_149_3.csv' with 149 entries has been generated.\n",
      "File 'Ba133_149_4.csv' with 149 entries has been generated.\n",
      "File 'Ba133_149_5.csv' with 149 entries has been generated.\n",
      "File 'Ba133_157_1.csv' with 157 entries has been generated.\n",
      "File 'Ba133_157_2.csv' with 157 entries has been generated.\n",
      "File 'Ba133_157_3.csv' with 157 entries has been generated.\n",
      "File 'Ba133_157_4.csv' with 157 entries has been generated.\n",
      "File 'Ba133_157_5.csv' with 157 entries has been generated.\n",
      "File 'Ba133_170_1.csv' with 170 entries has been generated.\n",
      "File 'Ba133_170_2.csv' with 170 entries has been generated.\n",
      "File 'Ba133_170_3.csv' with 170 entries has been generated.\n",
      "File 'Ba133_170_4.csv' with 170 entries has been generated.\n",
      "File 'Ba133_170_5.csv' with 170 entries has been generated.\n"
     ]
    }
   ],
   "source": [
    "# Generate files for cobalt 57 source \n",
    "barium_output_files = []\n",
    "cases = [\n",
    "    (81, 77),\n",
    "    (276.4, 149),\n",
    "    (302.8, 157),\n",
    "    (356, 170)\n",
    "]\n",
    "\n",
    "for i, case in enumerate(cases):\n",
    "    energy, num_entries = case\n",
    "    for j, position in enumerate(positions):\n",
    "        output_file = f\"Ba133_{num_entries}_{j+1}.csv\"\n",
    "        cobalt_output_files.append(output_file)\n",
    "        generate_file(output_file, num_entries, *position, energy)\n",
    "\n",
    "#print(f\"Total cobalt files generated: {len(barium_output_files)}\")"
   ]
  },
  {
   "cell_type": "code",
   "execution_count": null,
   "metadata": {},
   "outputs": [],
   "source": []
  }
 ],
 "metadata": {
  "kernelspec": {
   "display_name": "Python 3",
   "language": "python",
   "name": "python3"
  },
  "language_info": {
   "codemirror_mode": {
    "name": "ipython",
    "version": 3
   },
   "file_extension": ".py",
   "mimetype": "text/x-python",
   "name": "python",
   "nbconvert_exporter": "python",
   "pygments_lexer": "ipython3",
   "version": "3.6.15"
  }
 },
 "nbformat": 4,
 "nbformat_minor": 2
}
